{
  "nbformat": 4,
  "nbformat_minor": 0,
  "metadata": {
    "colab": {
      "name": "Exploratory Data Analysis Google apps",
      "version": "0.3.2",
      "provenance": [],
      "collapsed_sections": [],
      "include_colab_link": true
    },
    "kernelspec": {
      "name": "python3",
      "display_name": "Python 3"
    }
  },
  "cells": [
    {
      "cell_type": "markdown",
      "metadata": {
        "id": "view-in-github",
        "colab_type": "text"
      },
      "source": [
        "<a href=\"https://colab.research.google.com/github/antonypaulson/Basic-stuff/blob/master/Exploratory_Data_Analysis_Google_apps.ipynb\" target=\"_parent\"><img src=\"https://colab.research.google.com/assets/colab-badge.svg\" alt=\"Open In Colab\"/></a>"
      ]
    },
    {
      "metadata": {
        "id": "tJnc8DLrZlaO",
        "colab_type": "code",
        "colab": {}
      },
      "cell_type": "code",
      "source": [
        "#Importing the necesscary Libraries for analysis\n",
        "import numpy as np\n",
        "import pandas as pd\n"
      ],
      "execution_count": 0,
      "outputs": []
    },
    {
      "metadata": {
        "id": "qfs7FZmmawOv",
        "colab_type": "code",
        "colab": {}
      },
      "cell_type": "code",
      "source": [
        "#Importing the dataset into a pandas Dataframe\n",
        "gplay_df = pd.read_csv('googleplaystore.csv')"
      ],
      "execution_count": 0,
      "outputs": []
    },
    {
      "metadata": {
        "id": "oycIGWzna0Qa",
        "colab_type": "code",
        "outputId": "00a530eb-f8f8-4a2c-c4c8-254a8ae739b2",
        "colab": {
          "base_uri": "https://localhost:8080/",
          "height": 340
        }
      },
      "cell_type": "code",
      "source": [
        "#Displaying the head of the dataset\n",
        "gplay_df.head()"
      ],
      "execution_count": 3,
      "outputs": [
        {
          "output_type": "execute_result",
          "data": {
            "text/html": [
              "<div>\n",
              "<style scoped>\n",
              "    .dataframe tbody tr th:only-of-type {\n",
              "        vertical-align: middle;\n",
              "    }\n",
              "\n",
              "    .dataframe tbody tr th {\n",
              "        vertical-align: top;\n",
              "    }\n",
              "\n",
              "    .dataframe thead th {\n",
              "        text-align: right;\n",
              "    }\n",
              "</style>\n",
              "<table border=\"1\" class=\"dataframe\">\n",
              "  <thead>\n",
              "    <tr style=\"text-align: right;\">\n",
              "      <th></th>\n",
              "      <th>App</th>\n",
              "      <th>Category</th>\n",
              "      <th>Rating</th>\n",
              "      <th>Reviews</th>\n",
              "      <th>Size</th>\n",
              "      <th>Installs</th>\n",
              "      <th>Type</th>\n",
              "      <th>Price</th>\n",
              "      <th>Content Rating</th>\n",
              "      <th>Genres</th>\n",
              "      <th>Last Updated</th>\n",
              "      <th>Current Ver</th>\n",
              "      <th>Android Ver</th>\n",
              "    </tr>\n",
              "  </thead>\n",
              "  <tbody>\n",
              "    <tr>\n",
              "      <th>0</th>\n",
              "      <td>Photo Editor &amp; Candy Camera &amp; Grid &amp; ScrapBook</td>\n",
              "      <td>ART_AND_DESIGN</td>\n",
              "      <td>4.1</td>\n",
              "      <td>159</td>\n",
              "      <td>19M</td>\n",
              "      <td>10,000+</td>\n",
              "      <td>Free</td>\n",
              "      <td>0</td>\n",
              "      <td>Everyone</td>\n",
              "      <td>Art &amp; Design</td>\n",
              "      <td>January 7, 2018</td>\n",
              "      <td>1.0.0</td>\n",
              "      <td>4.0.3 and up</td>\n",
              "    </tr>\n",
              "    <tr>\n",
              "      <th>1</th>\n",
              "      <td>Coloring book moana</td>\n",
              "      <td>ART_AND_DESIGN</td>\n",
              "      <td>3.9</td>\n",
              "      <td>967</td>\n",
              "      <td>14M</td>\n",
              "      <td>500,000+</td>\n",
              "      <td>Free</td>\n",
              "      <td>0</td>\n",
              "      <td>Everyone</td>\n",
              "      <td>Art &amp; Design;Pretend Play</td>\n",
              "      <td>January 15, 2018</td>\n",
              "      <td>2.0.0</td>\n",
              "      <td>4.0.3 and up</td>\n",
              "    </tr>\n",
              "    <tr>\n",
              "      <th>2</th>\n",
              "      <td>U Launcher Lite – FREE Live Cool Themes, Hide ...</td>\n",
              "      <td>ART_AND_DESIGN</td>\n",
              "      <td>4.7</td>\n",
              "      <td>87510</td>\n",
              "      <td>8.7M</td>\n",
              "      <td>5,000,000+</td>\n",
              "      <td>Free</td>\n",
              "      <td>0</td>\n",
              "      <td>Everyone</td>\n",
              "      <td>Art &amp; Design</td>\n",
              "      <td>August 1, 2018</td>\n",
              "      <td>1.2.4</td>\n",
              "      <td>4.0.3 and up</td>\n",
              "    </tr>\n",
              "    <tr>\n",
              "      <th>3</th>\n",
              "      <td>Sketch - Draw &amp; Paint</td>\n",
              "      <td>ART_AND_DESIGN</td>\n",
              "      <td>4.5</td>\n",
              "      <td>215644</td>\n",
              "      <td>25M</td>\n",
              "      <td>50,000,000+</td>\n",
              "      <td>Free</td>\n",
              "      <td>0</td>\n",
              "      <td>Teen</td>\n",
              "      <td>Art &amp; Design</td>\n",
              "      <td>June 8, 2018</td>\n",
              "      <td>Varies with device</td>\n",
              "      <td>4.2 and up</td>\n",
              "    </tr>\n",
              "    <tr>\n",
              "      <th>4</th>\n",
              "      <td>Pixel Draw - Number Art Coloring Book</td>\n",
              "      <td>ART_AND_DESIGN</td>\n",
              "      <td>4.3</td>\n",
              "      <td>967</td>\n",
              "      <td>2.8M</td>\n",
              "      <td>100,000+</td>\n",
              "      <td>Free</td>\n",
              "      <td>0</td>\n",
              "      <td>Everyone</td>\n",
              "      <td>Art &amp; Design;Creativity</td>\n",
              "      <td>June 20, 2018</td>\n",
              "      <td>1.1</td>\n",
              "      <td>4.4 and up</td>\n",
              "    </tr>\n",
              "  </tbody>\n",
              "</table>\n",
              "</div>"
            ],
            "text/plain": [
              "                                                 App        Category  Rating  \\\n",
              "0     Photo Editor & Candy Camera & Grid & ScrapBook  ART_AND_DESIGN     4.1   \n",
              "1                                Coloring book moana  ART_AND_DESIGN     3.9   \n",
              "2  U Launcher Lite – FREE Live Cool Themes, Hide ...  ART_AND_DESIGN     4.7   \n",
              "3                              Sketch - Draw & Paint  ART_AND_DESIGN     4.5   \n",
              "4              Pixel Draw - Number Art Coloring Book  ART_AND_DESIGN     4.3   \n",
              "\n",
              "  Reviews  Size     Installs  Type Price Content Rating  \\\n",
              "0     159   19M      10,000+  Free     0       Everyone   \n",
              "1     967   14M     500,000+  Free     0       Everyone   \n",
              "2   87510  8.7M   5,000,000+  Free     0       Everyone   \n",
              "3  215644   25M  50,000,000+  Free     0           Teen   \n",
              "4     967  2.8M     100,000+  Free     0       Everyone   \n",
              "\n",
              "                      Genres      Last Updated         Current Ver  \\\n",
              "0               Art & Design   January 7, 2018               1.0.0   \n",
              "1  Art & Design;Pretend Play  January 15, 2018               2.0.0   \n",
              "2               Art & Design    August 1, 2018               1.2.4   \n",
              "3               Art & Design      June 8, 2018  Varies with device   \n",
              "4    Art & Design;Creativity     June 20, 2018                 1.1   \n",
              "\n",
              "    Android Ver  \n",
              "0  4.0.3 and up  \n",
              "1  4.0.3 and up  \n",
              "2  4.0.3 and up  \n",
              "3    4.2 and up  \n",
              "4    4.4 and up  "
            ]
          },
          "metadata": {
            "tags": []
          },
          "execution_count": 3
        }
      ]
    },
    {
      "metadata": {
        "id": "VOpmT3hjc5eC",
        "colab_type": "code",
        "outputId": "3f8a5f4d-fc9b-4783-b177-7731f853cad6",
        "colab": {
          "base_uri": "https://localhost:8080/",
          "height": 34
        }
      },
      "cell_type": "code",
      "source": [
        "#Data Cleansing Procedure\n",
        "\n",
        "###Number off Apps:\n",
        "x = len(gplay_df)\n",
        "print ('The number of records in the data set is: ', x)\n"
      ],
      "execution_count": 4,
      "outputs": [
        {
          "output_type": "stream",
          "text": [
            "The number of records in the data set is:  10841\n"
          ],
          "name": "stdout"
        }
      ]
    },
    {
      "metadata": {
        "id": "4VoRCHwleAEv",
        "colab_type": "code",
        "outputId": "f287b54f-50f9-4e1d-bbc8-eadd7512c8a1",
        "colab": {
          "base_uri": "https://localhost:8080/",
          "height": 34
        }
      },
      "cell_type": "code",
      "source": [
        "#Removing duplicate Apps and filling Null values from the dataset:\n",
        "gplay_df.drop_duplicates(subset='App', inplace=True)\n",
        "y = len(gplay_df)\n",
        "gplay_df.fillna(0) #Eliminating blank values and replacing with 0\n",
        "print ('The number of unique App records in the data set is: ', y)\n"
      ],
      "execution_count": 5,
      "outputs": [
        {
          "output_type": "stream",
          "text": [
            "The number of unique App records in the data set is:  9660\n"
          ],
          "name": "stdout"
        }
      ]
    },
    {
      "metadata": {
        "id": "TbAMK1GzjbN0",
        "colab_type": "code",
        "colab": {}
      },
      "cell_type": "code",
      "source": [
        "#converting columns Size, Installs, Price into purely numeric columns\n",
        "\n",
        "#Preparation for column Size\n",
        "gplay_df['Size'] = gplay_df['Size'].apply(lambda a: str(a).replace('M', '') if 'M' in str(a) else a)\n",
        "gplay_df['Size'] = gplay_df['Size'].apply(lambda a: str(a).replace(',', '') if '+' in str(a) else a)\n",
        "gplay_df['Size'] = gplay_df['Size'].apply(lambda a: str(a).replace('+', '') if '+' in str(a) else a)\n",
        "gplay_df['Size'] = gplay_df['Size'].apply(lambda a: float(str(a).replace('k', ''))/1000 if 'k' in str(a) else a)\n",
        "gplay_df['Size'] = gplay_df['Size'].apply(lambda a: str(a).replace('Varies with device', 'NaN') if 'Varies with device' in str(a) else a)\n",
        "\n",
        "\n",
        "\n",
        "#Preparation for column Installs\n",
        "gplay_df['Installs'] = gplay_df['Installs'].apply(lambda a: str(a).replace('+', '') if '+' in str(a) else a)\n",
        "gplay_df['Installs'] = gplay_df['Installs'].apply(lambda a: str(a).replace(',', '') if ',' in str(a) else a)\n",
        "gplay_df['Installs'] = gplay_df['Installs'].apply(lambda a: str(a).replace('Free', 'NaN') if 'Free' in str(a) else a)\n",
        "\n",
        "\n",
        "#Preparation for column Price\n",
        "gplay_df['Price'] = gplay_df['Price'].apply(lambda a: str(a).replace('$', '') if '$' in str(a) else a)\n",
        "gplay_df['Price'] = gplay_df['Price'].apply(lambda a: str(a).replace('Everyone', 'NaN') if 'Everyone' in str(a) else a)\n",
        "\n",
        "#Preparation for column Reviews\n",
        "gplay_df = gplay_df[~gplay_df.Reviews.str.contains(\"3.0M\")]\n",
        "\n",
        "#Converting all the values of these columns to floats\n",
        "gplay_df['Size'] = gplay_df['Size'].apply(lambda a : float(a))\n",
        "gplay_df['Installs'] = gplay_df['Installs'].apply(lambda a : float(a))\n",
        "gplay_df['Price'] = gplay_df['Price'].apply(lambda a : float(a))\n",
        "gplay_df['Reviews'] = gplay_df['Reviews'].apply(lambda a: float(a))\n",
        "gplay_df['Rating'] = gplay_df['Rating'].apply(lambda a: float(a))"
      ],
      "execution_count": 0,
      "outputs": []
    },
    {
      "metadata": {
        "id": "RXsEBQconTGK",
        "colab_type": "code",
        "outputId": "9a185baa-8e6e-4c08-d77c-89631e44d00d",
        "colab": {
          "base_uri": "https://localhost:8080/",
          "height": 34
        }
      },
      "cell_type": "code",
      "source": [
        "#After cleaning these columns Checking the database once again:\n",
        "z = len(gplay_df)\n",
        "print ('The number of unique App records in the data set is: ', z)"
      ],
      "execution_count": 7,
      "outputs": [
        {
          "output_type": "stream",
          "text": [
            "The number of unique App records in the data set is:  9659\n"
          ],
          "name": "stdout"
        }
      ]
    },
    {
      "metadata": {
        "id": "uyUYVf6ifXom",
        "colab_type": "code",
        "outputId": "93d8103a-51f0-4b31-9659-0cb7590f8c7c",
        "colab": {
          "base_uri": "https://localhost:8080/",
          "height": 34
        }
      },
      "cell_type": "code",
      "source": [
        "#Data Visualisation:\n",
        "no_of_distinct_categories =  len(set(gplay_df['Category']))\n",
        "print ('The dataset contains Apps belonging to', no_of_distinct_categories, 'Categories')"
      ],
      "execution_count": 8,
      "outputs": [
        {
          "output_type": "stream",
          "text": [
            "The dataset contains Apps belonging to 33 Categories\n"
          ],
          "name": "stdout"
        }
      ]
    },
    {
      "metadata": {
        "id": "QxCZrF4elLlL",
        "colab_type": "code",
        "outputId": "6cf5a75a-acb1-40f8-8dd2-e1bdacbc3d25",
        "colab": {
          "base_uri": "https://localhost:8080/",
          "height": 502
        }
      },
      "cell_type": "code",
      "source": [
        "#Visualisation using matplotlib\n",
        "import matplotlib.pyplot as plt\n",
        "import seaborn as sns\n",
        "\n",
        "#Number of categories of apps in the store\n",
        "x = gplay_df.Category\n",
        "fig, ax = plt.subplots()\n",
        "fig.set_size_inches(15, 7)\n",
        "fig.autofmt_xdate()\n",
        "no_of_cat_plot = sns.categorical.countplot(x)\n",
        "plt.show()\n",
        "\n"
      ],
      "execution_count": 9,
      "outputs": [
        {
          "output_type": "stream",
          "text": [
            "/usr/local/lib/python3.6/dist-packages/seaborn/categorical.py:1428: FutureWarning: remove_na is deprecated and is a private function. Do not use.\n",
            "  stat_data = remove_na(group_data)\n"
          ],
          "name": "stderr"
        },
        {
          "output_type": "display_data",
          "data": {
            "image/png": "[encoded data removed]",
            "text/plain": [
              "<Figure size 1080x504 with 1 Axes>"
            ]
          },
          "metadata": {
            "tags": []
          }
        }
      ]
    },
    {
      "metadata": {
        "id": "Bpr_98W7l4wk",
        "colab_type": "code",
        "outputId": "3502f1e4-04ec-44f7-89c5-4ed6d8ccb198",
        "colab": {
          "base_uri": "https://localhost:8080/",
          "height": 359
        }
      },
      "cell_type": "code",
      "source": [
        "#The results of the above visualisation can be better represented in a table\n",
        "\n",
        "cat_table = gplay_df.groupby('Category').size()\n",
        "cat_table = cat_table.reset_index(name='Count').nlargest(10,'Count')\n",
        "cat_table\n"
      ],
      "execution_count": 10,
      "outputs": [
        {
          "output_type": "execute_result",
          "data": {
            "text/html": [
              "<div>\n",
              "<style scoped>\n",
              "    .dataframe tbody tr th:only-of-type {\n",
              "        vertical-align: middle;\n",
              "    }\n",
              "\n",
              "    .dataframe tbody tr th {\n",
              "        vertical-align: top;\n",
              "    }\n",
              "\n",
              "    .dataframe thead th {\n",
              "        text-align: right;\n",
              "    }\n",
              "</style>\n",
              "<table border=\"1\" class=\"dataframe\">\n",
              "  <thead>\n",
              "    <tr style=\"text-align: right;\">\n",
              "      <th></th>\n",
              "      <th>Category</th>\n",
              "      <th>Count</th>\n",
              "    </tr>\n",
              "  </thead>\n",
              "  <tbody>\n",
              "    <tr>\n",
              "      <th>11</th>\n",
              "      <td>FAMILY</td>\n",
              "      <td>1832</td>\n",
              "    </tr>\n",
              "    <tr>\n",
              "      <th>14</th>\n",
              "      <td>GAME</td>\n",
              "      <td>959</td>\n",
              "    </tr>\n",
              "    <tr>\n",
              "      <th>29</th>\n",
              "      <td>TOOLS</td>\n",
              "      <td>827</td>\n",
              "    </tr>\n",
              "    <tr>\n",
              "      <th>4</th>\n",
              "      <td>BUSINESS</td>\n",
              "      <td>420</td>\n",
              "    </tr>\n",
              "    <tr>\n",
              "      <th>20</th>\n",
              "      <td>MEDICAL</td>\n",
              "      <td>395</td>\n",
              "    </tr>\n",
              "    <tr>\n",
              "      <th>23</th>\n",
              "      <td>PERSONALIZATION</td>\n",
              "      <td>376</td>\n",
              "    </tr>\n",
              "    <tr>\n",
              "      <th>25</th>\n",
              "      <td>PRODUCTIVITY</td>\n",
              "      <td>374</td>\n",
              "    </tr>\n",
              "    <tr>\n",
              "      <th>18</th>\n",
              "      <td>LIFESTYLE</td>\n",
              "      <td>369</td>\n",
              "    </tr>\n",
              "    <tr>\n",
              "      <th>12</th>\n",
              "      <td>FINANCE</td>\n",
              "      <td>345</td>\n",
              "    </tr>\n",
              "    <tr>\n",
              "      <th>28</th>\n",
              "      <td>SPORTS</td>\n",
              "      <td>325</td>\n",
              "    </tr>\n",
              "  </tbody>\n",
              "</table>\n",
              "</div>"
            ],
            "text/plain": [
              "           Category  Count\n",
              "11           FAMILY   1832\n",
              "14             GAME    959\n",
              "29            TOOLS    827\n",
              "4          BUSINESS    420\n",
              "20          MEDICAL    395\n",
              "23  PERSONALIZATION    376\n",
              "25     PRODUCTIVITY    374\n",
              "18        LIFESTYLE    369\n",
              "12          FINANCE    345\n",
              "28           SPORTS    325"
            ]
          },
          "metadata": {
            "tags": []
          },
          "execution_count": 10
        }
      ]
    },
    {
      "metadata": {
        "id": "-CVrmPSrsU8d",
        "colab_type": "code",
        "outputId": "143d4eeb-ff39-43d4-e791-14891e989786",
        "colab": {
          "base_uri": "https://localhost:8080/",
          "height": 85
        }
      },
      "cell_type": "code",
      "source": [
        "#Prediction of user rating based on other parameters\n",
        "gplay_df.head()\n",
        "gplay_df.columns"
      ],
      "execution_count": 11,
      "outputs": [
        {
          "output_type": "execute_result",
          "data": {
            "text/plain": [
              "Index(['App', 'Category', 'Rating', 'Reviews', 'Size', 'Installs', 'Type',\n",
              "       'Price', 'Content Rating', 'Genres', 'Last Updated', 'Current Ver',\n",
              "       'Android Ver'],\n",
              "      dtype='object')"
            ]
          },
          "metadata": {
            "tags": []
          },
          "execution_count": 11
        }
      ]
    },
    {
      "metadata": {
        "id": "J6DCOiyyldkJ",
        "colab_type": "code",
        "colab": {}
      },
      "cell_type": "code",
      "source": [
        "gplay_df = gplay_df.fillna(0)"
      ],
      "execution_count": 0,
      "outputs": []
    },
    {
      "metadata": {
        "id": "3OgELmgymOR2",
        "colab_type": "code",
        "colab": {}
      },
      "cell_type": "code",
      "source": [
        "#Preprocessing \n",
        "\n",
        "cat_columns = ['Category','Type','Content Rating', 'Android Ver']\n",
        "num_columns = ['Reviews','Size','Price', 'Installs']\n",
        "def preprocess(gplay_df):\n",
        "  preprocess_features = pd.DataFrame()\n",
        "  for i in cat_columns:\n",
        "    preprocess_features[i] = gplay_df[i] \n",
        "    preprocess_features[i] = preprocess_features[i].astype('category')\n",
        "  preprocess_features = pd.get_dummies(preprocess_features[cat_columns], drop_first = 'True')\n",
        "  for i in num_columns:\n",
        "    preprocess_features[i] = gplay_df[i].astype('float')\n",
        "  #preprocess_features = preprocess_features.astype('float')\n",
        "  return preprocess_features\n",
        "\n",
        "def preprocess_target(gplay_df):\n",
        "  output_targets = gplay_df['Rating'].astype('float')\n",
        "  return output_targets"
      ],
      "execution_count": 0,
      "outputs": []
    },
    {
      "metadata": {
        "id": "ctstM45JqOTP",
        "colab_type": "code",
        "colab": {}
      },
      "cell_type": "code",
      "source": [
        "#Data after preprocessing\n",
        "preproc_data = preprocess(gplay_df)\n",
        "target = preprocess_target(gplay_df)\n",
        "\n",
        "# #Validation Data\n",
        "# validation_sample = preprocess(gplay_df.tail(2000))\n",
        "# validation_target = preprocess_target(gplay_df.tail(2000))"
      ],
      "execution_count": 0,
      "outputs": []
    },
    {
      "metadata": {
        "id": "5uwvAWjudtvL",
        "colab_type": "code",
        "outputId": "519215c1-785e-4da3-ff55-43a1ae79c0b5",
        "colab": {
          "base_uri": "https://localhost:8080/",
          "height": 51
        }
      },
      "cell_type": "code",
      "source": [
        "print(preproc_data.shape)\n",
        "print(target.shape)"
      ],
      "execution_count": 15,
      "outputs": [
        {
          "output_type": "stream",
          "text": [
            "(9659, 76)\n",
            "(9659,)\n"
          ],
          "name": "stdout"
        }
      ]
    },
    {
      "metadata": {
        "id": "qbkUMeC5rAUK",
        "colab_type": "code",
        "colab": {}
      },
      "cell_type": "code",
      "source": [
        "from sklearn.model_selection import train_test_split as ts\n",
        "#X_train - Variables for training\n",
        "#X_test - Variables for testing\n",
        "#y_train - Target variable for training\n",
        "#y_test - Target variable for testing\n",
        "\n",
        "X_train, X_test, y_train, y_test = ts(preproc_data, target, test_size=0.3, random_state=101)"
      ],
      "execution_count": 0,
      "outputs": []
    },
    {
      "metadata": {
        "id": "LtjpVgXI30Ok",
        "colab_type": "code",
        "outputId": "a51d6458-a6f9-43c5-cc90-6096ff9b44d9",
        "colab": {
          "base_uri": "https://localhost:8080/",
          "height": 547
        }
      },
      "cell_type": "code",
      "source": [
        "import tensorflow as tf\n",
        "import numpy as np\n",
        "import pandas as pd\n",
        "import matplotlib.pyplot as plt\n",
        "from IPython import display\n",
        "from matplotlib import cm\n",
        "from matplotlib import gridspec\n",
        "from tensorflow.python.data import Dataset\n",
        "from tensorflow import keras\n",
        "# Now this is where Keras the mighty comes in\n",
        "\n",
        "# Now this is where Keras the mighty comes in\n",
        "\n",
        "model = keras.Sequential([\n",
        "    keras.layers.Dense(64, activation = tf.nn.relu,\n",
        "                      input_shape = (preproc_data.shape[1],)),\n",
        "    keras.layers.Dense(64, activation = tf.nn.relu),\n",
        "    keras.layers.BatchNormalization(),\n",
        "    keras.layers.Dropout(0.5),\n",
        "    keras.layers.BatchNormalization(),\n",
        "    keras.layers.Dropout(0.5),\n",
        "    keras.layers.Dense(1, activation = tf.nn.relu)\n",
        "    \n",
        "])\n",
        "\n",
        "rms_optimizer = tf.train.AdamOptimizer()\n",
        "\n",
        "#The loss is the mean square error and the metric used is the mean absolute error\n",
        "model.compile(loss='mse',\n",
        "             optimizer = rms_optimizer,\n",
        "             metrics = ['mae'])\n",
        "\n",
        "model.summary()"
      ],
      "execution_count": 17,
      "outputs": [
        {
          "output_type": "stream",
          "text": [
            "WARNING:tensorflow:From /usr/local/lib/python3.6/dist-packages/tensorflow/python/ops/resource_variable_ops.py:435: colocate_with (from tensorflow.python.framework.ops) is deprecated and will be removed in a future version.\n",
            "Instructions for updating:\n",
            "Colocations handled automatically by placer.\n",
            "WARNING:tensorflow:From /usr/local/lib/python3.6/dist-packages/tensorflow/python/keras/layers/core.py:143: calling dropout (from tensorflow.python.ops.nn_ops) with keep_prob is deprecated and will be removed in a future version.\n",
            "Instructions for updating:\n",
            "Please use `rate` instead of `keep_prob`. Rate should be set to `rate = 1 - keep_prob`.\n",
            "WARNING:tensorflow:From /usr/local/lib/python3.6/dist-packages/tensorflow/python/keras/utils/losses_utils.py:170: to_float (from tensorflow.python.ops.math_ops) is deprecated and will be removed in a future version.\n",
            "Instructions for updating:\n",
            "Use tf.cast instead.\n",
            "_________________________________________________________________\n",
            "Layer (type)                 Output Shape              Param #   \n",
            "=================================================================\n",
            "dense (Dense)                (None, 64)                4928      \n",
            "_________________________________________________________________\n",
            "dense_1 (Dense)              (None, 64)                4160      \n",
            "_________________________________________________________________\n",
            "batch_normalization_v1 (Batc (None, 64)                256       \n",
            "_________________________________________________________________\n",
            "dropout (Dropout)            (None, 64)                0         \n",
            "_________________________________________________________________\n",
            "batch_normalization_v1_1 (Ba (None, 64)                256       \n",
            "_________________________________________________________________\n",
            "dropout_1 (Dropout)          (None, 64)                0         \n",
            "_________________________________________________________________\n",
            "dense_2 (Dense)              (None, 1)                 65        \n",
            "=================================================================\n",
            "Total params: 9,665\n",
            "Trainable params: 9,409\n",
            "Non-trainable params: 256\n",
            "_________________________________________________________________\n"
          ],
          "name": "stdout"
        }
      ]
    },
    {
      "metadata": {
        "id": "INYzNEih4MNf",
        "colab_type": "code",
        "outputId": "34c330f3-f4e7-4bac-c86e-c8093f47d11d",
        "colab": {
          "base_uri": "https://localhost:8080/",
          "height": 275
        }
      },
      "cell_type": "code",
      "source": [
        "#To check whether our model runs\n",
        "class Dot(keras.callbacks.Callback):\n",
        "  def on_epoch_end(self, epoch, logs):\n",
        "    if epoch % 100 == 0 : print('')\n",
        "    print ('.', end='')\n",
        "    \n",
        "set_epoch = 1000\n",
        "tf.set_random_seed(1)\n",
        "\n",
        "# Store training stats\n",
        "fitting = model.fit(X_train, y_train, batch_size= 1000, epochs = set_epoch,\n",
        "                   validation_data = (X_test,y_test), verbose = 0,\n",
        "                   callbacks=[Dot()])"
      ],
      "execution_count": 18,
      "outputs": [
        {
          "output_type": "stream",
          "text": [
            "WARNING:tensorflow:From /usr/local/lib/python3.6/dist-packages/tensorflow/python/ops/math_ops.py:3066: to_int32 (from tensorflow.python.ops.math_ops) is deprecated and will be removed in a future version.\n",
            "Instructions for updating:\n",
            "Use tf.cast instead.\n",
            "\n",
            "....................................................................................................\n",
            "....................................................................................................\n",
            "....................................................................................................\n",
            "....................................................................................................\n",
            "....................................................................................................\n",
            "....................................................................................................\n",
            "....................................................................................................\n",
            "....................................................................................................\n",
            "....................................................................................................\n",
            "...................................................................................................."
          ],
          "name": "stdout"
        }
      ]
    },
    {
      "metadata": {
        "id": "YNJSxWvx49xB",
        "colab_type": "code",
        "outputId": "d95826ac-3cf4-41f5-a5de-2d0f6ed9b256",
        "colab": {
          "base_uri": "https://localhost:8080/",
          "height": 365
        }
      },
      "cell_type": "code",
      "source": [
        "#Plotting the model\n",
        "import matplotlib.pyplot as plt\n",
        "def plot_history(history):\n",
        "  plt.figure()\n",
        "  plt.xlabel('Epoch')\n",
        "  plt.ylabel('MAE in 1000')\n",
        "  plt.plot(history.epoch, np.array(history.history['mean_absolute_error']), label = 'Train Loss')\n",
        "  plt.plot(history.epoch, np.array(history.history['val_mean_absolute_error']), label = 'Validation Loss')\n",
        "  plt.legend()\n",
        "  plt.xlim([0,1000])\n",
        "  plt.ylim([0,4])\n",
        "plot_history(fitting)"
      ],
      "execution_count": 19,
      "outputs": [
        {
          "output_type": "display_data",
          "data": {
            "image/png": "[encoded data removed]",
            "text/plain": [
              "<Figure size 576x396 with 1 Axes>"
            ]
          },
          "metadata": {
            "tags": []
          }
        }
      ]
    },
    {
      "metadata": {
        "id": "czrJGjs5k7Sx",
        "colab_type": "code",
        "outputId": "e4e1ed1f-4895-4690-c126-f78dec81a3be",
        "colab": {
          "base_uri": "https://localhost:8080/",
          "height": 136
        }
      },
      "cell_type": "code",
      "source": [
        "model.predict(X_test)\n"
      ],
      "execution_count": 20,
      "outputs": [
        {
          "output_type": "execute_result",
          "data": {
            "text/plain": [
              "array([[3.486736 ],\n",
              "       [3.4770105],\n",
              "       [3.4792929],\n",
              "       ...,\n",
              "       [3.4888797],\n",
              "       [3.486092 ],\n",
              "       [3.485917 ]], dtype=float32)"
            ]
          },
          "metadata": {
            "tags": []
          },
          "execution_count": 20
        }
      ]
    },
    {
      "metadata": {
        "id": "S6EQouFNVs8z",
        "colab_type": "code",
        "outputId": "a60ec3f8-b131-428a-d4ce-767b937a4e83",
        "colab": {
          "base_uri": "https://localhost:8080/",
          "height": 34
        }
      },
      "cell_type": "code",
      "source": [
        "#Saving Measurements of the model\n",
        "pred = model.predict(X_test)\n",
        "from sklearn import metrics\n",
        "mae_nn = metrics.mean_absolute_error(y_test,pred)\n",
        "mse_nn = metrics.mean_squared_error(y_test, pred)\n",
        "rmse_nn = np.sqrt(metrics.mean_squared_error(y_test, pred))\n",
        "\n",
        "print( mae_nn, mse_nn, rmse_nn)"
      ],
      "execution_count": 21,
      "outputs": [
        {
          "output_type": "stream",
          "text": [
            "1.2032666771390506 2.536204480006958 1.5925465393535467\n"
          ],
          "name": "stdout"
        }
      ]
    },
    {
      "metadata": {
        "id": "LFR1Q8qFnoEz",
        "colab_type": "code",
        "colab": {}
      },
      "cell_type": "code",
      "source": [
        "#Decision Tree Model\n",
        "from sklearn.tree import DecisionTreeRegressor\n",
        "dt = DecisionTreeRegressor()\n",
        "\n"
      ],
      "execution_count": 0,
      "outputs": []
    },
    {
      "metadata": {
        "id": "ZX1TfhbznoId",
        "colab_type": "code",
        "outputId": "b12c2fce-f170-4156-a4a9-80ebcb04034b",
        "colab": {
          "base_uri": "https://localhost:8080/",
          "height": 102
        }
      },
      "cell_type": "code",
      "source": [
        "#Fitting\n",
        "dt.fit(X_train,y_train)"
      ],
      "execution_count": 23,
      "outputs": [
        {
          "output_type": "execute_result",
          "data": {
            "text/plain": [
              "DecisionTreeRegressor(criterion='mse', max_depth=None, max_features=None,\n",
              "           max_leaf_nodes=None, min_impurity_decrease=0.0,\n",
              "           min_impurity_split=None, min_samples_leaf=1,\n",
              "           min_samples_split=2, min_weight_fraction_leaf=0.0,\n",
              "           presort=False, random_state=None, splitter='best')"
            ]
          },
          "metadata": {
            "tags": []
          },
          "execution_count": 23
        }
      ]
    },
    {
      "metadata": {
        "id": "Uq3ecxcQnoMY",
        "colab_type": "code",
        "outputId": "c0f5ecfb-8c00-43a1-d9a9-39474c6005cd",
        "colab": {
          "base_uri": "https://localhost:8080/",
          "height": 34
        }
      },
      "cell_type": "code",
      "source": [
        "pred1 = dt.predict(X_test)\n",
        "mae_dt = metrics.mean_absolute_error(y_test,pred1)\n",
        "mse_dt = metrics.mean_squared_error(y_test, pred1)\n",
        "rmse_dt = np.sqrt(metrics.mean_squared_error(y_test, pred1))\n",
        "\n",
        "print( mae_dt, mse_dt, rmse_dt)"
      ],
      "execution_count": 24,
      "outputs": [
        {
          "output_type": "stream",
          "text": [
            "0.78027950310559 2.263694789510007 1.5045580047010507\n"
          ],
          "name": "stdout"
        }
      ]
    },
    {
      "metadata": {
        "id": "zz0uZckiy5_Z",
        "colab_type": "code",
        "colab": {}
      },
      "cell_type": "code",
      "source": [
        "#light gbm : Gradient boosted method for "
      ],
      "execution_count": 0,
      "outputs": []
    },
    {
      "metadata": {
        "id": "WnjTboPn9oI0",
        "colab_type": "code",
        "colab": {}
      },
      "cell_type": "code",
      "source": [
        "import lightgbm as lgb\n",
        "var = np.arange(1,50,5)\n",
        "#Grid Search for getting parameters\n",
        "\n",
        "from sklearn.model_selection import GridSearchCV\n",
        "gridParams = {\n",
        "'learning_rate' : [0.1, 0.12, 0.14,0.16,0.18, 0.2],\n",
        "    'num_leaves' : [ 20,21,22,23,24,25,26,27]\n",
        "}\n",
        "\n",
        "#model for gridsearch\n",
        "\n",
        "mdl = lgb.LGBMRegressor(metric = 'mae',\n",
        "                       objective = 'regression',\n",
        "                       n_estimators= 20000,\n",
        "                       bagging_fraction = 0.7,\n",
        "                       num_threads = 4,\n",
        "                       colsample_bytree = 0.7,\n",
        "                       num_boost_round = 100)\n",
        "\n",
        "grid = GridSearchCV(mdl, gridParams, verbose =4, n_jobs = -1, scoring = 'neg_mean_absolute_error')\n"
      ],
      "execution_count": 0,
      "outputs": []
    },
    {
      "metadata": {
        "id": "Z8akzZ0pAfTt",
        "colab_type": "code",
        "colab": {
          "base_uri": "https://localhost:8080/",
          "height": 377
        },
        "outputId": "2a8fc457-8db7-4403-8766-d679d6981658"
      },
      "cell_type": "code",
      "source": [
        "grid.fit(X_train, y_train)"
      ],
      "execution_count": 59,
      "outputs": [
        {
          "output_type": "stream",
          "text": [
            "/usr/local/lib/python3.6/dist-packages/sklearn/model_selection/_split.py:2053: FutureWarning: You should specify a value for 'cv' instead of relying on the default value. The default value will change from 3 to 5 in version 0.22.\n",
            "  warnings.warn(CV_WARNING, FutureWarning)\n",
            "[Parallel(n_jobs=-1)]: Using backend LokyBackend with 2 concurrent workers.\n"
          ],
          "name": "stderr"
        },
        {
          "output_type": "stream",
          "text": [
            "Fitting 3 folds for each of 48 candidates, totalling 144 fits\n"
          ],
          "name": "stdout"
        },
        {
          "output_type": "stream",
          "text": [
            "[Parallel(n_jobs=-1)]: Done  21 tasks      | elapsed:   10.1s\n",
            "[Parallel(n_jobs=-1)]: Done  94 tasks      | elapsed:   44.9s\n",
            "[Parallel(n_jobs=-1)]: Done 144 out of 144 | elapsed:  1.1min finished\n",
            "/usr/local/lib/python3.6/dist-packages/lightgbm/engine.py:118: UserWarning: Found `num_boost_round` in params. Will use it instead of argument\n",
            "  warnings.warn(\"Found `{}` in params. Will use it instead of argument\".format(alias))\n"
          ],
          "name": "stderr"
        },
        {
          "output_type": "execute_result",
          "data": {
            "text/plain": [
              "GridSearchCV(cv='warn', error_score='raise-deprecating',\n",
              "       estimator=LGBMRegressor(bagging_fraction=0.7, boosting_type='gbdt', class_weight=None,\n",
              "       colsample_bytree=0.7, importance_type='split', learning_rate=0.1,\n",
              "       max_depth=-1, metric='mae', min_child_samples=20,\n",
              "       min_child_weight=0.001, min_split_gain=0.0, n_estimators=20000,\n",
              "       n_job...      reg_lambda=0.0, silent=True, subsample=1.0,\n",
              "       subsample_for_bin=200000, subsample_freq=0),\n",
              "       fit_params=None, iid='warn', n_jobs=-1,\n",
              "       param_grid={'learning_rate': [0.1, 0.12, 0.14, 0.16, 0.18, 0.2], 'num_leaves': [20, 21, 22, 23, 24, 25, 26, 27]},\n",
              "       pre_dispatch='2*n_jobs', refit=True, return_train_score='warn',\n",
              "       scoring='neg_mean_absolute_error', verbose=4)"
            ]
          },
          "metadata": {
            "tags": []
          },
          "execution_count": 59
        }
      ]
    },
    {
      "metadata": {
        "id": "W6gYFPiuBHW8",
        "colab_type": "code",
        "colab": {
          "base_uri": "https://localhost:8080/",
          "height": 51
        },
        "outputId": "2fad7eb8-bc50-4d53-845d-65041de0a85d"
      },
      "cell_type": "code",
      "source": [
        "print(grid.best_params_)\n",
        "print(grid.best_score_)"
      ],
      "execution_count": 61,
      "outputs": [
        {
          "output_type": "stream",
          "text": [
            "{'learning_rate': 0.1, 'num_leaves': 25}\n",
            "-0.6325090930392946\n"
          ],
          "name": "stdout"
        }
      ]
    },
    {
      "metadata": {
        "id": "cSn4AHAny6HZ",
        "colab_type": "code",
        "colab": {}
      },
      "cell_type": "code",
      "source": [
        "import lightgbm as lgb\n",
        "\n",
        "param = {'learning_rate': 0.1, 'boosting_type': 'gbdt', 'num_leaves':25, 'nthread':4, 'num_trees':100, 'objective': 'regression', 'metric':'mse'}\n"
      ],
      "execution_count": 0,
      "outputs": []
    },
    {
      "metadata": {
        "id": "WRVrsqs_y6LN",
        "colab_type": "code",
        "outputId": "06d77bde-030d-459d-bf91-fef7efa86336",
        "colab": {
          "base_uri": "https://localhost:8080/",
          "height": 51
        }
      },
      "cell_type": "code",
      "source": [
        "train_data = lgb.Dataset(X_train, y_train, silent =False)\n",
        "test_data = lgb.Dataset(X_test, y_test, silent = False)\n",
        "\n",
        "lgbt = lgb.train(param, train_set = train_data, num_boost_round =20, verbose_eval =4)"
      ],
      "execution_count": 63,
      "outputs": [
        {
          "output_type": "stream",
          "text": [
            "/usr/local/lib/python3.6/dist-packages/lightgbm/engine.py:118: UserWarning: Found `num_trees` in params. Will use it instead of argument\n",
            "  warnings.warn(\"Found `{}` in params. Will use it instead of argument\".format(alias))\n"
          ],
          "name": "stderr"
        }
      ]
    },
    {
      "metadata": {
        "id": "L__vgMJ0y6Ot",
        "colab_type": "code",
        "outputId": "2d5c53e9-9ba7-41f6-c096-ffc1a3e562e9",
        "colab": {
          "base_uri": "https://localhost:8080/",
          "height": 34
        }
      },
      "cell_type": "code",
      "source": [
        "pred2 = lgbt.predict(X_test, num_iteration = lgbt.best_iteration)\n",
        "\n",
        "mae_lgb = metrics.mean_absolute_error(y_test,pred2)\n",
        "mse_lgb = metrics.mean_squared_error(y_test, pred2)\n",
        "rmse_lgb = np.sqrt(metrics.mean_squared_error(y_test, pred2))\n",
        "\n",
        "print( mae_lgb, mse_lgb, rmse_lgb)"
      ],
      "execution_count": 64,
      "outputs": [
        {
          "output_type": "stream",
          "text": [
            "0.6231696962356382 1.0653789968613863 1.0321719802733391\n"
          ],
          "name": "stdout"
        }
      ]
    },
    {
      "metadata": {
        "id": "Eghb3iUdy6Up",
        "colab_type": "code",
        "outputId": "84cfbd21-c17c-48e4-b374-5fbc04a95a20",
        "colab": {
          "base_uri": "https://localhost:8080/",
          "height": 51
        }
      },
      "cell_type": "code",
      "source": [
        "from sklearn.linear_model import LinearRegression\n",
        "lr = LinearRegression()\n",
        "lr.fit(X_train,y_train)"
      ],
      "execution_count": 29,
      "outputs": [
        {
          "output_type": "execute_result",
          "data": {
            "text/plain": [
              "LinearRegression(copy_X=True, fit_intercept=True, n_jobs=None,\n",
              "         normalize=False)"
            ]
          },
          "metadata": {
            "tags": []
          },
          "execution_count": 29
        }
      ]
    },
    {
      "metadata": {
        "id": "jvfi3vmdy6a-",
        "colab_type": "code",
        "outputId": "cf4b1afc-70f2-452f-cb50-1862aea830d1",
        "colab": {
          "base_uri": "https://localhost:8080/",
          "height": 34
        }
      },
      "cell_type": "code",
      "source": [
        "pred3 = lr.predict(X_test)\n",
        "\n",
        "mae_lr = metrics.mean_absolute_error(y_test,pred3)\n",
        "mse_lr = metrics.mean_squared_error(y_test, pred3)\n",
        "rmse_lr = np.sqrt(metrics.mean_squared_error(y_test, pred3))\n",
        "\n",
        "print( mae_lr, mse_lr, rmse_lr)"
      ],
      "execution_count": 30,
      "outputs": [
        {
          "output_type": "stream",
          "text": [
            "1.14757822960386 2.4257400172090935 1.5574787373216668\n"
          ],
          "name": "stdout"
        }
      ]
    },
    {
      "metadata": {
        "id": "2yopF6hJy6R3",
        "colab_type": "code",
        "colab": {}
      },
      "cell_type": "code",
      "source": [
        ""
      ],
      "execution_count": 0,
      "outputs": []
    },
    {
      "metadata": {
        "id": "krXXOvxpPJtk",
        "colab_type": "code",
        "colab": {}
      },
      "cell_type": "code",
      "source": [
        "# arange for creating a range of values  \n",
        "# from min value of X to max value of X  \n",
        "# with a difference of 0.01 between two \n",
        "# consecutive values \n",
        "X_grid = np.arange(min(training_target), max(training_target), 0.001)\n",
        "  \n",
        "# reshape for reshaping the data into  \n",
        "# a len(X_grid)*1 array, i.e. to make \n",
        "# a column out of the X_grid values \n",
        "X_grid = X_grid.reshape((4000, 1))  \n",
        "  \n",
        "# scatter plot for original data \n",
        "plt.scatter(validation_sample, validation_target, color = 'red') \n",
        "  \n",
        "# plot predicted data \n",
        "plt.plot(validation_sample, regressor.predict(validation_sample), color = 'blue')  \n",
        "  \n",
        "# specify title \n",
        "plt.title('Profit to Production Cost (Decision Tree Regression)')  \n",
        "  \n",
        "# specify X axis label \n",
        "plt.xlabel('Production Cost') \n",
        "  \n",
        "# specify Y axis label \n",
        "plt.ylabel('Profit') \n",
        "  \n",
        "# show the plot \n",
        "plt.show()"
      ],
      "execution_count": 0,
      "outputs": []
    },
    {
      "metadata": {
        "id": "LWq_7obeP5wW",
        "colab_type": "code",
        "colab": {}
      },
      "cell_type": "code",
      "source": [
        "regressor.predict(validation_target)"
      ],
      "execution_count": 0,
      "outputs": []
    },
    {
      "metadata": {
        "id": "oMMB5Wk2nVlE",
        "colab_type": "code",
        "colab": {}
      },
      "cell_type": "code",
      "source": [
        ""
      ],
      "execution_count": 0,
      "outputs": []
    }
  ]
}