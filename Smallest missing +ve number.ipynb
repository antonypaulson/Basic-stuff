{
 "cells": [
  {
   "cell_type": "code",
   "execution_count": 19,
   "metadata": {},
   "outputs": [
    {
     "name": "stdout",
     "output_type": "stream",
     "text": [
      "Please enter the first number: 42\n",
      "Please enter the second number: 43\n",
      "Please enter the third number: 44\n",
      "Please enter the fourth number: 65\n",
      "Please enter the fifth number: 23\n",
      "Please enter the sixth number: 21\n",
      "Please enter the seventh number: 20\n",
      "Please enter the eighth number: 40\n",
      "The smallest missing positive number is:  22\n"
     ]
    }
   ],
   "source": [
    "#Finding the smallest positive missing number in a user defined listlist\n",
    "import numpy as np\n",
    "x1= int(input(\"Please enter the first number: \"))\n",
    "x2= int(input(\"Please enter the second number: \"))\n",
    "x3= int(input(\"Please enter the third number: \"))\n",
    "x4= int(input(\"Please enter the fourth number: \"))\n",
    "x5= int(input(\"Please enter the fifth number: \"))\n",
    "x6= int(input(\"Please enter the fifth number: \"))\n",
    "x7= int(input(\"Please enter the fifth number: \"))\n",
    "x8= int(input(\"Please enter the fifth number: \"))\n",
    "a = [x1,x2,x3,x4,x5,x6,x7,x8]\n",
    "a = np.array(a)\n",
    "a = np.sort(a)\n",
    "for i in a:\n",
    "    if i + 1 not in a and i > 0:\n",
    "        print 'The smallest missing positive number is: ', i+1\n",
    "        break"
   ]
  },
  {
   "cell_type": "markdown",
   "metadata": {},
   "source": [
    "import pandas as pd\n",
    "pd.core.common.is_list_like = pd.api.types.is_list_like\n",
    "import pandas_datareader as pddr\n",
    "import matplotlib.pyplot as plt\n",
    "import pandas as pd\n",
    "import datetime"
   ]
  },
  {
   "cell_type": "code",
   "execution_count": null,
   "metadata": {},
   "outputs": [],
   "source": []
  },
  {
   "cell_type": "code",
   "execution_count": null,
   "metadata": {},
   "outputs": [],
   "source": []
  },
  {
   "cell_type": "code",
   "execution_count": null,
   "metadata": {},
   "outputs": [],
   "source": []
  }
 ],
 "metadata": {
  "kernelspec": {
   "display_name": "Python 2",
   "language": "python",
   "name": "python2"
  },
  "language_info": {
   "codemirror_mode": {
    "name": "ipython",
    "version": 2
   },
   "file_extension": ".py",
   "mimetype": "text/x-python",
   "name": "python",
   "nbconvert_exporter": "python",
   "pygments_lexer": "ipython2",
   "version": "2.7.15"
  }
 },
 "nbformat": 4,
 "nbformat_minor": 2
}
