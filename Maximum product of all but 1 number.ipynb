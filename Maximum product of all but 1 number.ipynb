{
 "cells": [
  {
   "cell_type": "code",
   "execution_count": 82,
   "metadata": {},
   "outputs": [
    {
     "name": "stdout",
     "output_type": "stream",
     "text": [
      "Please enter the first number: 23\n",
      "Please enter the second number: 23\n",
      "Please enter the third number: 45\n",
      "Please enter the fourth number: 6\n",
      "Please enter the fifth number: 76\n",
      "The maximum product of all integers except one is: 78660\n"
     ]
    }
   ],
   "source": [
    "#Finding the maximum product of all but 1 number in a user defined list of numbers\n",
    "import numpy as np\n",
    "x1= int(input(\"Please enter the first number: \"))\n",
    "x2= int(input(\"Please enter the second number: \"))\n",
    "x3= int(input(\"Please enter the third number: \"))\n",
    "x4= int(input(\"Please enter the fourth number: \"))\n",
    "x5= int(input(\"Please enter the fifth number: \"))\n",
    "a = [x1,x2,x3,x4,x5]\n",
    "#Creating a numpy array\n",
    "a = np.array(a)\n",
    "#Finding unique numbers\n",
    "a = np.unique(a)\n",
    "a = np.sort(a)\n",
    "#Excluding the smallest number\n",
    "b = np.delete(a, 0)\n",
    "print 'The maximum product of all integers except one is:', np.prod(b)"
   ]
  }
 ],
 "metadata": {
  "kernelspec": {
   "display_name": "Python 2",
   "language": "python",
   "name": "python2"
  },
  "language_info": {
   "codemirror_mode": {
    "name": "ipython",
    "version": 2
   },
   "file_extension": ".py",
   "mimetype": "text/x-python",
   "name": "python",
   "nbconvert_exporter": "python",
   "pygments_lexer": "ipython2",
   "version": "2.7.15"
  }
 },
 "nbformat": 4,
 "nbformat_minor": 2
}
