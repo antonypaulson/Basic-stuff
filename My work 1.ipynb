{
 "cells": [
  {
   "cell_type": "code",
   "execution_count": null,
   "metadata": {},
   "outputs": [],
   "source": [
    "Wife = 'Aleena'\n",
    "print 'Happy',Wife, 'Happy Life'"
   ]
  },
  {
   "cell_type": "code",
   "execution_count": null,
   "metadata": {},
   "outputs": [],
   "source": [
    "a=int(input(\"Please enter a number: \"))\n",
    "b=int(input(\"Please enter another number: \"))\n",
    "sum = a+b\n",
    "print 'The sum of', a,'and', b,'is', sum\n"
   ]
  },
  {
   "cell_type": "code",
   "execution_count": 2,
   "metadata": {},
   "outputs": [
    {
     "name": "stdout",
     "output_type": "stream",
     "text": [
      "Please enter a word: qwerty\n",
      "the word qwerty is not a palindrome\n"
     ]
    }
   ],
   "source": [
    "a=[]\n",
    "b=[]\n",
    "word = raw_input(\"Please enter a word: \")\n",
    "word_lower = word.lower()\n",
    "for letter in word_lower:\n",
    "    a.append(letter)\n",
    "a.reverse() \n",
    "for element in a:\n",
    "    b.append(element)\n",
    "a.reverse()\n",
    "\n",
    "if a == b:\n",
    "    print 'the word', word, 'is a palindrome'\n",
    "else:\n",
    "    print 'the word', word, 'is not a palindrome'"
   ]
  },
  {
   "cell_type": "code",
   "execution_count": 1,
   "metadata": {},
   "outputs": [
    {
     "name": "stdout",
     "output_type": "stream",
     "text": [
      "Please enter a year: 2022\n"
     ]
    },
    {
     "data": {
      "text/plain": [
       "'2002'"
      ]
     },
     "execution_count": 1,
     "metadata": {},
     "output_type": "execute_result"
    }
   ],
   "source": [
    "a=[]\n",
    "b=[]\n",
    "c = ['8','9']\n",
    "d = []\n",
    "year = raw_input(\"Please enter a year: \")\n",
    "for digit in year:\n",
    "    a.append(digit)\n",
    "a.reverse()\n",
    "if int(a[0]) == 0:\n",
    "    print 'Please enter a valid year'\n",
    "    exit()\n",
    "elif len(a) == 2:\n",
    "    if a[1] in c:\n",
    "        a[1] = str(int(a[1]) - 1)\n",
    "        a[0] = a[1]\n",
    "    else:\n",
    "        a[0] = a[len(a)-1]\n",
    "elif len(a) == 3:\n",
    "    a[0] = a[len(a)-1]\n",
    "elif len(a) == 4:\n",
    "    a[0] = a[len(a)-1]\n",
    "    a[1] = a[len(a)-2]\n",
    "''.join(a)"
   ]
  },
  {
   "cell_type": "code",
   "execution_count": 54,
   "metadata": {},
   "outputs": [
    {
     "name": "stdout",
     "output_type": "stream",
     "text": [
      "5\n"
     ]
    }
   ],
   "source": [
    "d ={'A':3, 'B':5}\n",
    "print(d.get('B'))"
   ]
  },
  {
   "cell_type": "code",
   "execution_count": null,
   "metadata": {},
   "outputs": [],
   "source": [
    "vowels = 'AEIOUaeiou'\n",
    "i=0\n",
    "word = raw_input(\"Please enter a word: \")\n",
    "for letter in word:\n",
    "    if letter in vowels:\n",
    "        i += 1\n",
    "print \"the count of vowels is: \", i"
   ]
  },
  {
   "cell_type": "code",
   "execution_count": null,
   "metadata": {},
   "outputs": [],
   "source": [
    "word1 = raw_input(\"Please enter a word: \")\n",
    "word1 = word1.lower()\n",
    "word2 = raw_input(\"Please enter another word: \")\n",
    "word2 = word2.lower()\n",
    "a=[]\n",
    "b=[]\n",
    "\n",
    "for letter in word1:\n",
    "    a.append(letter)\n",
    "    if letter == ' ':\n",
    "        a.remove(letter)\n",
    "        \n",
    "for alphabet in word2:\n",
    "    b.append(alphabet)\n",
    "    if alphabet == ' ':\n",
    "        b.remove(letter)\n",
    "a.sort()\n",
    "b.sort()\n",
    "\n",
    "if a == b:\n",
    "    print(\"The two words\", word1,'and',word2, 'are anagrams of each other')\n",
    "else:\n",
    "    print(\"The two words\", word1,'and',word2, 'are not anagrams of each other')\n",
    "\n",
    "\n"
   ]
  },
  {
   "cell_type": "code",
   "execution_count": 3,
   "metadata": {},
   "outputs": [
    {
     "name": "stdout",
     "output_type": "stream",
     "text": [
      "please enter a number:  153\n",
      "the number 153 is an armstrong number\n"
     ]
    }
   ],
   "source": [
    "a = int(input(\"please enter a number:  \"))\n",
    "m = str(a)\n",
    "c=[]\n",
    "b=[]\n",
    "for number in m:\n",
    "    c.append(int(number))\n",
    "for i in c:\n",
    "    armstrong = i**(len(c))\n",
    "    b.append(armstrong)\n",
    "#print b\n",
    "if sum(b) == a:\n",
    "    print 'the number', a, 'is an armstrong number'\n",
    "else:\n",
    "    print 'the number', a, 'is not an armstrong number'"
   ]
  },
  {
   "cell_type": "markdown",
   "metadata": {},
   "source": [
    "## "
   ]
  },
  {
   "cell_type": "code",
   "execution_count": 6,
   "metadata": {},
   "outputs": [
    {
     "name": "stdout",
     "output_type": "stream",
     "text": [
      "Please enter a number7\n",
      "The number 7 is a prime number\n"
     ]
    }
   ],
   "source": [
    "a = int(input(\"Please enter a number\"))\n",
    "\n",
    "if a == 1:\n",
    "    print 'The number', a,'is a prime number'\n",
    "elif a%2 == 1:\n",
    "    print 'The number', a,'is a prime number'\n",
    "else:\n",
    "    print 'The number', a,'is not a prime number'"
   ]
  },
  {
   "cell_type": "code",
   "execution_count": null,
   "metadata": {},
   "outputs": [],
   "source": [
    "b = raw_input(\"please enter an element for the array: \")\n",
    "a = [b]\n",
    "d = []\n",
    "\n",
    "for inputs in a:\n",
    "    c = raw_input(\"please enter an element for the array: \")\n",
    "    if c == '':\n",
    "        break\n",
    "    else:\n",
    "        a.append(c)\n",
    "for element in a:\n",
    "        print 'the count of element', element, 'in the array is', a.count(element)\n",
    "\n"
   ]
  },
  {
   "cell_type": "code",
   "execution_count": null,
   "metadata": {},
   "outputs": [],
   "source": [
    "print '%(language)s has %(number)03d quote types.' %{\"language\": \"Python\", \"number\": 2}"
   ]
  },
  {
   "cell_type": "code",
   "execution_count": null,
   "metadata": {},
   "outputs": [],
   "source": [
    "\"The sum of 1+2 is {0}\".format(1+2)"
   ]
  },
  {
   "cell_type": "code",
   "execution_count": null,
   "metadata": {},
   "outputs": [],
   "source": [
    "\"{1}, {0}, {2}\".format('a', 'b', 'c')"
   ]
  },
  {
   "cell_type": "code",
   "execution_count": null,
   "metadata": {},
   "outputs": [],
   "source": [
    "s= 'a b c'\n",
    "b = s.split()\n",
    "b\n",
    "\"\".join(b)\n",
    "\n"
   ]
  },
  {
   "cell_type": "code",
   "execution_count": null,
   "metadata": {},
   "outputs": [],
   "source": [
    "'www.example.com'.lstrip('we.')"
   ]
  },
  {
   "cell_type": "code",
   "execution_count": null,
   "metadata": {},
   "outputs": [],
   "source": [
    "s = 'a is a good lad'\n",
    "s.replace(\"a\", \"Tony\",2)"
   ]
  },
  {
   "cell_type": "code",
   "execution_count": 18,
   "metadata": {},
   "outputs": [
    {
     "name": "stdout",
     "output_type": "stream",
     "text": [
      "0\n",
      "1\n",
      "2\n",
      "3\n",
      "4\n",
      "5\n",
      "6\n",
      "7\n",
      "8\n",
      "9\n"
     ]
    }
   ],
   "source": [
    "for i in range(10):\n",
    "    print i"
   ]
  },
  {
   "cell_type": "code",
   "execution_count": 17,
   "metadata": {},
   "outputs": [
    {
     "name": "stdout",
     "output_type": "stream",
     "text": [
      "10\n"
     ]
    }
   ],
   "source": [
    "data = [0,1,2,3,4]\n",
    "total=0\n",
    "i=0\n",
    "while i < len(data):\n",
    "    total += data[i]\n",
    "    i += 1\n",
    "print total\n"
   ]
  },
  {
   "cell_type": "code",
   "execution_count": 54,
   "metadata": {},
   "outputs": [
    {
     "name": "stdout",
     "output_type": "stream",
     "text": [
      "['Jesus', 'aleena', 'amma', 'appa', 'appapa', 'ammama']\n"
     ]
    }
   ],
   "source": [
    "friends =['Jesus', 'aleena', 'amma', 'appa' , 'appapa', 'ammama']\n",
    "friends.insert(6, 'Pappa')\n",
    "\n",
    "del friends[6]\n",
    "print friends"
   ]
  },
  {
   "cell_type": "code",
   "execution_count": 58,
   "metadata": {},
   "outputs": [
    {
     "name": "stdout",
     "output_type": "stream",
     "text": [
      "{'four': 4, 'three': 3, 'two': 2, 'one': 1}\n"
     ]
    }
   ],
   "source": [
    "a = dict(one=1, two=2, three=3) \n",
    "a\n",
    "a['one']\n",
    "a['four'] = 4\n",
    "print a"
   ]
  },
  {
   "cell_type": "code",
   "execution_count": 60,
   "metadata": {},
   "outputs": [
    {
     "name": "stdout",
     "output_type": "stream",
     "text": [
      "{'raja': 2, 'bush': 1, 'zhen': 1, 'cwen': 2}\n"
     ]
    }
   ],
   "source": [
    "Counts = dict()\n",
    "Names = ['bush', 'cwen', 'zhen', 'raja', 'cwen', 'raja']\n",
    "for name in Names :\n",
    "    Counts[name] = Counts.get(name, 0) + 1\n",
    "print(Counts)"
   ]
  },
  {
   "cell_type": "code",
   "execution_count": 64,
   "metadata": {},
   "outputs": [],
   "source": [
    "import numpy as np"
   ]
  },
  {
   "cell_type": "code",
   "execution_count": 65,
   "metadata": {
    "scrolled": true
   },
   "outputs": [
    {
     "ename": "ImportError",
     "evalue": "No module named matplotlib.pyplot",
     "output_type": "error",
     "traceback": [
      "\u001b[0;31m---------------------------------------------------------------------------\u001b[0m",
      "\u001b[0;31mImportError\u001b[0m                               Traceback (most recent call last)",
      "\u001b[0;32m<ipython-input-65-7d912f0e8c66>\u001b[0m in \u001b[0;36m<module>\u001b[0;34m()\u001b[0m\n\u001b[1;32m      1\u001b[0m \u001b[0;32mimport\u001b[0m \u001b[0mrandom\u001b[0m\u001b[0;34m\u001b[0m\u001b[0m\n\u001b[1;32m      2\u001b[0m \u001b[0;32mimport\u001b[0m \u001b[0mnumpy\u001b[0m \u001b[0;32mas\u001b[0m \u001b[0mnp\u001b[0m\u001b[0;34m\u001b[0m\u001b[0m\n\u001b[0;32m----> 3\u001b[0;31m \u001b[0;32mimport\u001b[0m \u001b[0mmatplotlib\u001b[0m\u001b[0;34m.\u001b[0m\u001b[0mpyplot\u001b[0m \u001b[0;32mas\u001b[0m \u001b[0mplt\u001b[0m\u001b[0;34m\u001b[0m\u001b[0m\n\u001b[0m\u001b[1;32m      4\u001b[0m \u001b[0mposition\u001b[0m \u001b[0;34m=\u001b[0m \u001b[0;36m0\u001b[0m\u001b[0;34m\u001b[0m\u001b[0m\n\u001b[1;32m      5\u001b[0m \u001b[0mwalk\u001b[0m \u001b[0;34m=\u001b[0m \u001b[0;34m[\u001b[0m\u001b[0;34m]\u001b[0m\u001b[0;34m\u001b[0m\u001b[0m\n",
      "\u001b[0;31mImportError\u001b[0m: No module named matplotlib.pyplot"
     ]
    }
   ],
   "source": [
    "import random\n",
    "import numpy as np\n",
    "import matplotlib.pyplot as plt\n",
    "position = 0\n",
    "walk = []\n",
    "steps = 100\n",
    "\n",
    "for n in range(steps):\n",
    "    if randint(0,1) == 1:\n",
    "        step = 1 \n",
    "    else:\n",
    "        step = -1\n",
    "    walk.append(position)\n",
    "    position += step\n",
    "plt.plot(walk)\n",
    "    "
   ]
  },
  {
   "cell_type": "code",
   "execution_count": 25,
   "metadata": {},
   "outputs": [
    {
     "data": {
      "text/html": [
       "<div>\n",
       "<style scoped>\n",
       "    .dataframe tbody tr th:only-of-type {\n",
       "        vertical-align: middle;\n",
       "    }\n",
       "\n",
       "    .dataframe tbody tr th {\n",
       "        vertical-align: top;\n",
       "    }\n",
       "\n",
       "    .dataframe thead th {\n",
       "        text-align: right;\n",
       "    }\n",
       "</style>\n",
       "<table border=\"1\" class=\"dataframe\">\n",
       "  <thead>\n",
       "    <tr style=\"text-align: right;\">\n",
       "      <th></th>\n",
       "      <th>Value</th>\n",
       "    </tr>\n",
       "  </thead>\n",
       "  <tbody>\n",
       "    <tr>\n",
       "      <th>A</th>\n",
       "      <td>1</td>\n",
       "    </tr>\n",
       "    <tr>\n",
       "      <th>B</th>\n",
       "      <td>4</td>\n",
       "    </tr>\n",
       "    <tr>\n",
       "      <th>C</th>\n",
       "      <td>1</td>\n",
       "    </tr>\n",
       "    <tr>\n",
       "      <th>D</th>\n",
       "      <td>4</td>\n",
       "    </tr>\n",
       "    <tr>\n",
       "      <th>E</th>\n",
       "      <td>2</td>\n",
       "    </tr>\n",
       "    <tr>\n",
       "      <th>F</th>\n",
       "      <td>1</td>\n",
       "    </tr>\n",
       "    <tr>\n",
       "      <th>G</th>\n",
       "      <td>3</td>\n",
       "    </tr>\n",
       "    <tr>\n",
       "      <th>H</th>\n",
       "      <td>5</td>\n",
       "    </tr>\n",
       "    <tr>\n",
       "      <th>I</th>\n",
       "      <td>6</td>\n",
       "    </tr>\n",
       "  </tbody>\n",
       "</table>\n",
       "</div>"
      ],
      "text/plain": [
       "   Value\n",
       "A      1\n",
       "B      4\n",
       "C      1\n",
       "D      4\n",
       "E      2\n",
       "F      1\n",
       "G      3\n",
       "H      5\n",
       "I      6"
      ]
     },
     "execution_count": 25,
     "metadata": {},
     "output_type": "execute_result"
    }
   ],
   "source": [
    "import pandas as pd\n",
    "import numpy as np\n",
    "a = list('ABCDEFGHI')\n",
    "b = [1,4,1,4,2,1,3,5,6]\n",
    "x = pd.DataFrame(index = a)\n",
    "x['Value'] = b\n",
    "x"
   ]
  },
  {
   "cell_type": "code",
   "execution_count": 13,
   "metadata": {},
   "outputs": [
    {
     "data": {
      "text/plain": [
       "3.0"
      ]
     },
     "execution_count": 13,
     "metadata": {},
     "output_type": "execute_result"
    }
   ],
   "source": [
    "np.mean(b)"
   ]
  },
  {
   "cell_type": "code",
   "execution_count": 14,
   "metadata": {},
   "outputs": [
    {
     "data": {
      "text/plain": [
       "6"
      ]
     },
     "execution_count": 14,
     "metadata": {},
     "output_type": "execute_result"
    }
   ],
   "source": [
    "np.max(b)"
   ]
  },
  {
   "cell_type": "code",
   "execution_count": 19,
   "metadata": {},
   "outputs": [
    {
     "data": {
      "text/plain": [
       "1"
      ]
     },
     "execution_count": 19,
     "metadata": {},
     "output_type": "execute_result"
    }
   ],
   "source": [
    "a.count('A')"
   ]
  },
  {
   "cell_type": "code",
   "execution_count": 26,
   "metadata": {},
   "outputs": [
    {
     "name": "stdout",
     "output_type": "stream",
     "text": [
      "1 count : 3\n",
      "4 count : 2\n",
      "1 count : 3\n",
      "4 count : 2\n",
      "2 count : 1\n",
      "1 count : 3\n",
      "3 count : 1\n",
      "5 count : 1\n",
      "6 count : 1\n"
     ]
    }
   ],
   "source": [
    "for x in b:\n",
    "    c = b.count(x)\n",
    "    print x, 'count :', c"
   ]
  },
  {
   "cell_type": "code",
   "execution_count": null,
   "metadata": {},
   "outputs": [],
   "source": []
  }
 ],
 "metadata": {
  "kernelspec": {
   "display_name": "Python 2",
   "language": "python",
   "name": "python2"
  },
  "language_info": {
   "codemirror_mode": {
    "name": "ipython",
    "version": 2
   },
   "file_extension": ".py",
   "mimetype": "text/x-python",
   "name": "python",
   "nbconvert_exporter": "python",
   "pygments_lexer": "ipython2",
   "version": "2.7.15"
  }
 },
 "nbformat": 4,
 "nbformat_minor": 2
}
