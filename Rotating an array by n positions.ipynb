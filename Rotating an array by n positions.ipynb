{
 "cells": [
  {
   "cell_type": "code",
   "execution_count": 16,
   "metadata": {},
   "outputs": [
    {
     "name": "stdout",
     "output_type": "stream",
     "text": [
      "Enter the number of positions to rotate: 2\n",
      "The original array is: \n",
      "[88 57 37 49  5  2 23 38 39 44]\n",
      "The rotated final array by 2 positions is: \n",
      "[39 44 88 57 37 49  5  2 23 38]\n"
     ]
    }
   ],
   "source": [
    "n = int(input(\"Enter the number of positions to rotate: \"))\n",
    "import numpy as np\n",
    "a = np.random.randint(100,size= 10)\n",
    "print 'The original array is: \\n',a\n",
    "b= np.roll(a,n)\n",
    "print 'The rotated final array by', n,'positions is: \\n',b"
   ]
  }
 ],
 "metadata": {
  "kernelspec": {
   "display_name": "Python 2",
   "language": "python",
   "name": "python2"
  },
  "language_info": {
   "codemirror_mode": {
    "name": "ipython",
    "version": 2
   },
   "file_extension": ".py",
   "mimetype": "text/x-python",
   "name": "python",
   "nbconvert_exporter": "python",
   "pygments_lexer": "ipython2",
   "version": "2.7.15"
  }
 },
 "nbformat": 4,
 "nbformat_minor": 2
}
